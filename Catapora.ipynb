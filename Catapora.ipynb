{
  "nbformat": 4,
  "nbformat_minor": 0,
  "metadata": {
    "colab": {
      "name": "Catapora.ipynb",
      "provenance": [],
      "collapsed_sections": [
        "A_SMiPorSG23"
      ],
      "toc_visible": true,
      "include_colab_link": true
    },
    "kernelspec": {
      "name": "python3",
      "display_name": "Python 3"
    },
    "language_info": {
      "name": "python"
    }
  },
  "cells": [
    {
      "cell_type": "markdown",
      "metadata": {
        "id": "view-in-github",
        "colab_type": "text"
      },
      "source": [
        "<a href=\"https://colab.research.google.com/github/claraaamaral/analise_de_dados/blob/main/Catapora.ipynb\" target=\"_parent\"><img src=\"https://colab.research.google.com/assets/colab-badge.svg\" alt=\"Open In Colab\"/></a>"
      ]
    },
    {
      "cell_type": "markdown",
      "source": [
        "# Projeto de Analíse de Dados - Casos de Catapora"
      ],
      "metadata": {
        "id": "5S1z2TzDmnfk"
      }
    },
    {
      "cell_type": "markdown",
      "source": [
        "Estatística aplicada\n",
        "Discentes: Maria Clara e Priscilla Melo\n",
        "Relatório da I unidade"
      ],
      "metadata": {
        "id": "ZLAGRDY_JJeO"
      }
    },
    {
      "cell_type": "markdown",
      "source": [
        "## Informações sobre o Dataset:"
      ],
      "metadata": {
        "id": "xJdWULpzuH0M"
      }
    },
    {
      "cell_type": "markdown",
      "source": [
        "Sobre o conjunto de dados\n",
        "Os dados estão relacionados à Hungria e seus condados. Abrangeram o período de 01/03/2015 a 29/12/2014 e foram atualizados semanalmente.\n",
        "Ao longo das colunas temos a data em que os dados foram coletados e os respectivos municípios.\n",
        "\n",
        "Inspiração\n",
        "Você pode realizar uma análise exploratória dos dados, trabalhando com Pandas ou Numpy.\n",
        "Visualizações interessantes podem ser realizadas usando, por exemplo, bibliotecas Python como Matplotlib para traçar histogramas para cada município.\n",
        "Uma análise e previsão de séries temporais também podem ser realizadas para todos os municípios.\n",
        "Além disso, este conjunto de dados é muito bom para praticar consultas usando SQL ou Pandas.\n",
        "Lembre-se de votar se você achou o conjunto de dados útil :).\n",
        "\n",
        "Metodologia de coleta\n",
        "Os dados foram obtidos no seguinte link: https://archive.ics.uci.edu/ml/datasets/Hungarian+Chickenpox+Cases# . As datas foram formatadas, pois continham diferentes formatos de data e hora.\n",
        "\n",
        "Reconhecimento\n",
        "Casos de catapora na Hungria: um conjunto de dados de referência para processamento de sinais espaço-temporais com redes neurais gráficas\n",
        "Benedek Rozemberczki, Paul Scherer, Oliver Kiss, Rik Sarkar, Tamas Ferenci."
      ],
      "metadata": {
        "id": "N7CoK_1wL2nO"
      }
    },
    {
      "cell_type": "markdown",
      "source": [
        "## Importando Bibliotecas:"
      ],
      "metadata": {
        "id": "vtcHR8tvmzM5"
      }
    },
    {
      "cell_type": "code",
      "metadata": {
        "id": "wu6997KuFJ-o"
      },
      "source": [
        "import numpy as np\n",
        "import pandas as pd\n",
        "import seaborn as sb\n",
        "import matplotlib.pyplot as plt"
      ],
      "execution_count": 1,
      "outputs": []
    },
    {
      "cell_type": "markdown",
      "source": [
        "## Leitura do Dataset:"
      ],
      "metadata": {
        "id": "elH-X5P-m4JL"
      }
    },
    {
      "cell_type": "code",
      "metadata": {
        "id": "9WzFBNmpFppf"
      },
      "source": [
        "Diagnostico = pd.read_csv('https://raw.githubusercontent.com/claraaamaral/analise_de_dados/main/hungary_chickenpox_data.csv')"
      ],
      "execution_count": 2,
      "outputs": []
    },
    {
      "cell_type": "markdown",
      "metadata": {
        "id": "a3oDpL5sSRjs"
      },
      "source": [
        "## Analíse da Tabela:"
      ]
    },
    {
      "cell_type": "markdown",
      "source": [
        "### visão geral dos dados:"
      ],
      "metadata": {
        "id": "EH0K065-nAsY"
      }
    },
    {
      "cell_type": "code",
      "source": [
        "Diagnostico"
      ],
      "metadata": {
        "colab": {
          "base_uri": "https://localhost:8080/",
          "height": 488
        },
        "id": "Cp9UTE2hwEsF",
        "outputId": "1d38b6bd-13dd-4598-9e91-c71b91394aca"
      },
      "execution_count": 3,
      "outputs": [
        {
          "output_type": "execute_result",
          "data": {
            "text/plain": [
              "           Date  BUDAPEST  BARANYA  BACS  BEKES  BORSOD  CSONGRAD  FEJER  \\\n",
              "0     3/01/2005       168       79    30    173     169        42    136   \n",
              "1    10/01/2005       157       60    30     92     200        53     51   \n",
              "2    17/01/2005        96       44    31     86      93        30     93   \n",
              "3    24/01/2005       163       49    43    126      46        39     52   \n",
              "4    31/01/2005       122       78    53     87     103        34     95   \n",
              "..          ...       ...      ...   ...    ...     ...       ...    ...   \n",
              "517   1/12/2014        95       12    41      6      39         0     16   \n",
              "518   8/12/2014        43       39    31     10      34         3      2   \n",
              "519  15/12/2014        35        7    15      0       0         0      7   \n",
              "520  22/12/2014        30       23     8      0      11         4      1   \n",
              "521  29/12/2014       259       42    49     32      38        15     11   \n",
              "\n",
              "     GYOR  HAJDU  ...  JASZ  KOMAROM  NOGRAD  PEST  SOMOGY  SZABOLCS  TOLNA  \\\n",
              "0     120    162  ...   130       57       2   178      66        64     11   \n",
              "1      70     84  ...    80       50      29   141      48        29     58   \n",
              "2      84    191  ...    64       46       4   157      33        33     24   \n",
              "3     114    107  ...    63       54      14   107      66        50     25   \n",
              "4     131    172  ...    61       49      11   124      63        56      7   \n",
              "..    ...    ...  ...   ...      ...     ...   ...     ...       ...    ...   \n",
              "517    15     14  ...    56        7      13   122       4        23      4   \n",
              "518    30     25  ...    34       20      18    70      36         5     23   \n",
              "519     7      4  ...    30       36       4    72       5        21     14   \n",
              "520     9     10  ...    27       17      21    12       5        17      1   \n",
              "521    98     61  ...   112       61      53   256      45        39     27   \n",
              "\n",
              "     VAS  VESZPREM  ZALA  \n",
              "0     29        87    68  \n",
              "1     53        68    26  \n",
              "2     18        62    44  \n",
              "3     21        43    31  \n",
              "4     47        85    60  \n",
              "..   ...       ...   ...  \n",
              "517   11       110    10  \n",
              "518   22        63     9  \n",
              "519    0        17    10  \n",
              "520    1        83     2  \n",
              "521   11       103    25  \n",
              "\n",
              "[522 rows x 21 columns]"
            ],
            "text/html": [
              "\n",
              "  <div id=\"df-f5bbd69b-06fa-4767-b157-50e9b5062446\">\n",
              "    <div class=\"colab-df-container\">\n",
              "      <div>\n",
              "<style scoped>\n",
              "    .dataframe tbody tr th:only-of-type {\n",
              "        vertical-align: middle;\n",
              "    }\n",
              "\n",
              "    .dataframe tbody tr th {\n",
              "        vertical-align: top;\n",
              "    }\n",
              "\n",
              "    .dataframe thead th {\n",
              "        text-align: right;\n",
              "    }\n",
              "</style>\n",
              "<table border=\"1\" class=\"dataframe\">\n",
              "  <thead>\n",
              "    <tr style=\"text-align: right;\">\n",
              "      <th></th>\n",
              "      <th>Date</th>\n",
              "      <th>BUDAPEST</th>\n",
              "      <th>BARANYA</th>\n",
              "      <th>BACS</th>\n",
              "      <th>BEKES</th>\n",
              "      <th>BORSOD</th>\n",
              "      <th>CSONGRAD</th>\n",
              "      <th>FEJER</th>\n",
              "      <th>GYOR</th>\n",
              "      <th>HAJDU</th>\n",
              "      <th>...</th>\n",
              "      <th>JASZ</th>\n",
              "      <th>KOMAROM</th>\n",
              "      <th>NOGRAD</th>\n",
              "      <th>PEST</th>\n",
              "      <th>SOMOGY</th>\n",
              "      <th>SZABOLCS</th>\n",
              "      <th>TOLNA</th>\n",
              "      <th>VAS</th>\n",
              "      <th>VESZPREM</th>\n",
              "      <th>ZALA</th>\n",
              "    </tr>\n",
              "  </thead>\n",
              "  <tbody>\n",
              "    <tr>\n",
              "      <th>0</th>\n",
              "      <td>3/01/2005</td>\n",
              "      <td>168</td>\n",
              "      <td>79</td>\n",
              "      <td>30</td>\n",
              "      <td>173</td>\n",
              "      <td>169</td>\n",
              "      <td>42</td>\n",
              "      <td>136</td>\n",
              "      <td>120</td>\n",
              "      <td>162</td>\n",
              "      <td>...</td>\n",
              "      <td>130</td>\n",
              "      <td>57</td>\n",
              "      <td>2</td>\n",
              "      <td>178</td>\n",
              "      <td>66</td>\n",
              "      <td>64</td>\n",
              "      <td>11</td>\n",
              "      <td>29</td>\n",
              "      <td>87</td>\n",
              "      <td>68</td>\n",
              "    </tr>\n",
              "    <tr>\n",
              "      <th>1</th>\n",
              "      <td>10/01/2005</td>\n",
              "      <td>157</td>\n",
              "      <td>60</td>\n",
              "      <td>30</td>\n",
              "      <td>92</td>\n",
              "      <td>200</td>\n",
              "      <td>53</td>\n",
              "      <td>51</td>\n",
              "      <td>70</td>\n",
              "      <td>84</td>\n",
              "      <td>...</td>\n",
              "      <td>80</td>\n",
              "      <td>50</td>\n",
              "      <td>29</td>\n",
              "      <td>141</td>\n",
              "      <td>48</td>\n",
              "      <td>29</td>\n",
              "      <td>58</td>\n",
              "      <td>53</td>\n",
              "      <td>68</td>\n",
              "      <td>26</td>\n",
              "    </tr>\n",
              "    <tr>\n",
              "      <th>2</th>\n",
              "      <td>17/01/2005</td>\n",
              "      <td>96</td>\n",
              "      <td>44</td>\n",
              "      <td>31</td>\n",
              "      <td>86</td>\n",
              "      <td>93</td>\n",
              "      <td>30</td>\n",
              "      <td>93</td>\n",
              "      <td>84</td>\n",
              "      <td>191</td>\n",
              "      <td>...</td>\n",
              "      <td>64</td>\n",
              "      <td>46</td>\n",
              "      <td>4</td>\n",
              "      <td>157</td>\n",
              "      <td>33</td>\n",
              "      <td>33</td>\n",
              "      <td>24</td>\n",
              "      <td>18</td>\n",
              "      <td>62</td>\n",
              "      <td>44</td>\n",
              "    </tr>\n",
              "    <tr>\n",
              "      <th>3</th>\n",
              "      <td>24/01/2005</td>\n",
              "      <td>163</td>\n",
              "      <td>49</td>\n",
              "      <td>43</td>\n",
              "      <td>126</td>\n",
              "      <td>46</td>\n",
              "      <td>39</td>\n",
              "      <td>52</td>\n",
              "      <td>114</td>\n",
              "      <td>107</td>\n",
              "      <td>...</td>\n",
              "      <td>63</td>\n",
              "      <td>54</td>\n",
              "      <td>14</td>\n",
              "      <td>107</td>\n",
              "      <td>66</td>\n",
              "      <td>50</td>\n",
              "      <td>25</td>\n",
              "      <td>21</td>\n",
              "      <td>43</td>\n",
              "      <td>31</td>\n",
              "    </tr>\n",
              "    <tr>\n",
              "      <th>4</th>\n",
              "      <td>31/01/2005</td>\n",
              "      <td>122</td>\n",
              "      <td>78</td>\n",
              "      <td>53</td>\n",
              "      <td>87</td>\n",
              "      <td>103</td>\n",
              "      <td>34</td>\n",
              "      <td>95</td>\n",
              "      <td>131</td>\n",
              "      <td>172</td>\n",
              "      <td>...</td>\n",
              "      <td>61</td>\n",
              "      <td>49</td>\n",
              "      <td>11</td>\n",
              "      <td>124</td>\n",
              "      <td>63</td>\n",
              "      <td>56</td>\n",
              "      <td>7</td>\n",
              "      <td>47</td>\n",
              "      <td>85</td>\n",
              "      <td>60</td>\n",
              "    </tr>\n",
              "    <tr>\n",
              "      <th>...</th>\n",
              "      <td>...</td>\n",
              "      <td>...</td>\n",
              "      <td>...</td>\n",
              "      <td>...</td>\n",
              "      <td>...</td>\n",
              "      <td>...</td>\n",
              "      <td>...</td>\n",
              "      <td>...</td>\n",
              "      <td>...</td>\n",
              "      <td>...</td>\n",
              "      <td>...</td>\n",
              "      <td>...</td>\n",
              "      <td>...</td>\n",
              "      <td>...</td>\n",
              "      <td>...</td>\n",
              "      <td>...</td>\n",
              "      <td>...</td>\n",
              "      <td>...</td>\n",
              "      <td>...</td>\n",
              "      <td>...</td>\n",
              "      <td>...</td>\n",
              "    </tr>\n",
              "    <tr>\n",
              "      <th>517</th>\n",
              "      <td>1/12/2014</td>\n",
              "      <td>95</td>\n",
              "      <td>12</td>\n",
              "      <td>41</td>\n",
              "      <td>6</td>\n",
              "      <td>39</td>\n",
              "      <td>0</td>\n",
              "      <td>16</td>\n",
              "      <td>15</td>\n",
              "      <td>14</td>\n",
              "      <td>...</td>\n",
              "      <td>56</td>\n",
              "      <td>7</td>\n",
              "      <td>13</td>\n",
              "      <td>122</td>\n",
              "      <td>4</td>\n",
              "      <td>23</td>\n",
              "      <td>4</td>\n",
              "      <td>11</td>\n",
              "      <td>110</td>\n",
              "      <td>10</td>\n",
              "    </tr>\n",
              "    <tr>\n",
              "      <th>518</th>\n",
              "      <td>8/12/2014</td>\n",
              "      <td>43</td>\n",
              "      <td>39</td>\n",
              "      <td>31</td>\n",
              "      <td>10</td>\n",
              "      <td>34</td>\n",
              "      <td>3</td>\n",
              "      <td>2</td>\n",
              "      <td>30</td>\n",
              "      <td>25</td>\n",
              "      <td>...</td>\n",
              "      <td>34</td>\n",
              "      <td>20</td>\n",
              "      <td>18</td>\n",
              "      <td>70</td>\n",
              "      <td>36</td>\n",
              "      <td>5</td>\n",
              "      <td>23</td>\n",
              "      <td>22</td>\n",
              "      <td>63</td>\n",
              "      <td>9</td>\n",
              "    </tr>\n",
              "    <tr>\n",
              "      <th>519</th>\n",
              "      <td>15/12/2014</td>\n",
              "      <td>35</td>\n",
              "      <td>7</td>\n",
              "      <td>15</td>\n",
              "      <td>0</td>\n",
              "      <td>0</td>\n",
              "      <td>0</td>\n",
              "      <td>7</td>\n",
              "      <td>7</td>\n",
              "      <td>4</td>\n",
              "      <td>...</td>\n",
              "      <td>30</td>\n",
              "      <td>36</td>\n",
              "      <td>4</td>\n",
              "      <td>72</td>\n",
              "      <td>5</td>\n",
              "      <td>21</td>\n",
              "      <td>14</td>\n",
              "      <td>0</td>\n",
              "      <td>17</td>\n",
              "      <td>10</td>\n",
              "    </tr>\n",
              "    <tr>\n",
              "      <th>520</th>\n",
              "      <td>22/12/2014</td>\n",
              "      <td>30</td>\n",
              "      <td>23</td>\n",
              "      <td>8</td>\n",
              "      <td>0</td>\n",
              "      <td>11</td>\n",
              "      <td>4</td>\n",
              "      <td>1</td>\n",
              "      <td>9</td>\n",
              "      <td>10</td>\n",
              "      <td>...</td>\n",
              "      <td>27</td>\n",
              "      <td>17</td>\n",
              "      <td>21</td>\n",
              "      <td>12</td>\n",
              "      <td>5</td>\n",
              "      <td>17</td>\n",
              "      <td>1</td>\n",
              "      <td>1</td>\n",
              "      <td>83</td>\n",
              "      <td>2</td>\n",
              "    </tr>\n",
              "    <tr>\n",
              "      <th>521</th>\n",
              "      <td>29/12/2014</td>\n",
              "      <td>259</td>\n",
              "      <td>42</td>\n",
              "      <td>49</td>\n",
              "      <td>32</td>\n",
              "      <td>38</td>\n",
              "      <td>15</td>\n",
              "      <td>11</td>\n",
              "      <td>98</td>\n",
              "      <td>61</td>\n",
              "      <td>...</td>\n",
              "      <td>112</td>\n",
              "      <td>61</td>\n",
              "      <td>53</td>\n",
              "      <td>256</td>\n",
              "      <td>45</td>\n",
              "      <td>39</td>\n",
              "      <td>27</td>\n",
              "      <td>11</td>\n",
              "      <td>103</td>\n",
              "      <td>25</td>\n",
              "    </tr>\n",
              "  </tbody>\n",
              "</table>\n",
              "<p>522 rows × 21 columns</p>\n",
              "</div>\n",
              "      <button class=\"colab-df-convert\" onclick=\"convertToInteractive('df-f5bbd69b-06fa-4767-b157-50e9b5062446')\"\n",
              "              title=\"Convert this dataframe to an interactive table.\"\n",
              "              style=\"display:none;\">\n",
              "        \n",
              "  <svg xmlns=\"http://www.w3.org/2000/svg\" height=\"24px\"viewBox=\"0 0 24 24\"\n",
              "       width=\"24px\">\n",
              "    <path d=\"M0 0h24v24H0V0z\" fill=\"none\"/>\n",
              "    <path d=\"M18.56 5.44l.94 2.06.94-2.06 2.06-.94-2.06-.94-.94-2.06-.94 2.06-2.06.94zm-11 1L8.5 8.5l.94-2.06 2.06-.94-2.06-.94L8.5 2.5l-.94 2.06-2.06.94zm10 10l.94 2.06.94-2.06 2.06-.94-2.06-.94-.94-2.06-.94 2.06-2.06.94z\"/><path d=\"M17.41 7.96l-1.37-1.37c-.4-.4-.92-.59-1.43-.59-.52 0-1.04.2-1.43.59L10.3 9.45l-7.72 7.72c-.78.78-.78 2.05 0 2.83L4 21.41c.39.39.9.59 1.41.59.51 0 1.02-.2 1.41-.59l7.78-7.78 2.81-2.81c.8-.78.8-2.07 0-2.86zM5.41 20L4 18.59l7.72-7.72 1.47 1.35L5.41 20z\"/>\n",
              "  </svg>\n",
              "      </button>\n",
              "      \n",
              "  <style>\n",
              "    .colab-df-container {\n",
              "      display:flex;\n",
              "      flex-wrap:wrap;\n",
              "      gap: 12px;\n",
              "    }\n",
              "\n",
              "    .colab-df-convert {\n",
              "      background-color: #E8F0FE;\n",
              "      border: none;\n",
              "      border-radius: 50%;\n",
              "      cursor: pointer;\n",
              "      display: none;\n",
              "      fill: #1967D2;\n",
              "      height: 32px;\n",
              "      padding: 0 0 0 0;\n",
              "      width: 32px;\n",
              "    }\n",
              "\n",
              "    .colab-df-convert:hover {\n",
              "      background-color: #E2EBFA;\n",
              "      box-shadow: 0px 1px 2px rgba(60, 64, 67, 0.3), 0px 1px 3px 1px rgba(60, 64, 67, 0.15);\n",
              "      fill: #174EA6;\n",
              "    }\n",
              "\n",
              "    [theme=dark] .colab-df-convert {\n",
              "      background-color: #3B4455;\n",
              "      fill: #D2E3FC;\n",
              "    }\n",
              "\n",
              "    [theme=dark] .colab-df-convert:hover {\n",
              "      background-color: #434B5C;\n",
              "      box-shadow: 0px 1px 3px 1px rgba(0, 0, 0, 0.15);\n",
              "      filter: drop-shadow(0px 1px 2px rgba(0, 0, 0, 0.3));\n",
              "      fill: #FFFFFF;\n",
              "    }\n",
              "  </style>\n",
              "\n",
              "      <script>\n",
              "        const buttonEl =\n",
              "          document.querySelector('#df-f5bbd69b-06fa-4767-b157-50e9b5062446 button.colab-df-convert');\n",
              "        buttonEl.style.display =\n",
              "          google.colab.kernel.accessAllowed ? 'block' : 'none';\n",
              "\n",
              "        async function convertToInteractive(key) {\n",
              "          const element = document.querySelector('#df-f5bbd69b-06fa-4767-b157-50e9b5062446');\n",
              "          const dataTable =\n",
              "            await google.colab.kernel.invokeFunction('convertToInteractive',\n",
              "                                                     [key], {});\n",
              "          if (!dataTable) return;\n",
              "\n",
              "          const docLinkHtml = 'Like what you see? Visit the ' +\n",
              "            '<a target=\"_blank\" href=https://colab.research.google.com/notebooks/data_table.ipynb>data table notebook</a>'\n",
              "            + ' to learn more about interactive tables.';\n",
              "          element.innerHTML = '';\n",
              "          dataTable['output_type'] = 'display_data';\n",
              "          await google.colab.output.renderOutput(dataTable, element);\n",
              "          const docLink = document.createElement('div');\n",
              "          docLink.innerHTML = docLinkHtml;\n",
              "          element.appendChild(docLink);\n",
              "        }\n",
              "      </script>\n",
              "    </div>\n",
              "  </div>\n",
              "  "
            ]
          },
          "metadata": {},
          "execution_count": 3
        }
      ]
    },
    {
      "cell_type": "markdown",
      "source": [
        "A tabela acima possui 522 amostras e 21 variáveis. "
      ],
      "metadata": {
        "id": "_Udxi6SpPyrC"
      }
    },
    {
      "cell_type": "markdown",
      "source": [
        "### Dimesões da tabela:"
      ],
      "metadata": {
        "id": "EXa6_TpmnHv5"
      }
    },
    {
      "cell_type": "code",
      "metadata": {
        "colab": {
          "base_uri": "https://localhost:8080/"
        },
        "id": "mGMZo7PZuPUQ",
        "outputId": "241195b0-dccb-4e8e-e931-87f908345ba3"
      },
      "source": [
        "# numpy.shape (): nos dá o número de elementos em cada dimensão de um array.\n",
        "Diagnostico.shape\n",
        "# Nesse caso 569 linhas e 33 Colunas"
      ],
      "execution_count": 4,
      "outputs": [
        {
          "output_type": "execute_result",
          "data": {
            "text/plain": [
              "(522, 21)"
            ]
          },
          "metadata": {},
          "execution_count": 4
        }
      ]
    },
    {
      "cell_type": "markdown",
      "source": [
        "Conclusão a partir do que foi introduzido:\n",
        "\n",
        "*   Temos 569 linhas, consequentemente 569 pacientes\n",
        "*   Temos 33 Colunas, ou seja, atributos que podem caracterizar o paciente e o cancer que ele possui;\n",
        "*   Dos 569 temos 212 casos malignos. Nessa tabela representando que os casos mais graves são a minoria;\n",
        "\n"
      ],
      "metadata": {
        "id": "XIpLommQxp4t"
      }
    },
    {
      "cell_type": "markdown",
      "source": [
        "### Características dos atributos:"
      ],
      "metadata": {
        "id": "Ce0WuBtynTAQ"
      }
    },
    {
      "cell_type": "code",
      "metadata": {
        "colab": {
          "base_uri": "https://localhost:8080/"
        },
        "id": "a1JI1RGTl-S8",
        "outputId": "b52edf62-dd7f-4112-dec0-1ffd6b02f5c1"
      },
      "source": [
        "Diagnostico.info()"
      ],
      "execution_count": 5,
      "outputs": [
        {
          "output_type": "stream",
          "name": "stdout",
          "text": [
            "<class 'pandas.core.frame.DataFrame'>\n",
            "RangeIndex: 522 entries, 0 to 521\n",
            "Data columns (total 21 columns):\n",
            " #   Column    Non-Null Count  Dtype \n",
            "---  ------    --------------  ----- \n",
            " 0   Date      522 non-null    object\n",
            " 1   BUDAPEST  522 non-null    int64 \n",
            " 2   BARANYA   522 non-null    int64 \n",
            " 3   BACS      522 non-null    int64 \n",
            " 4   BEKES     522 non-null    int64 \n",
            " 5   BORSOD    522 non-null    int64 \n",
            " 6   CSONGRAD  522 non-null    int64 \n",
            " 7   FEJER     522 non-null    int64 \n",
            " 8   GYOR      522 non-null    int64 \n",
            " 9   HAJDU     522 non-null    int64 \n",
            " 10  HEVES     522 non-null    int64 \n",
            " 11  JASZ      522 non-null    int64 \n",
            " 12  KOMAROM   522 non-null    int64 \n",
            " 13  NOGRAD    522 non-null    int64 \n",
            " 14  PEST      522 non-null    int64 \n",
            " 15  SOMOGY    522 non-null    int64 \n",
            " 16  SZABOLCS  522 non-null    int64 \n",
            " 17  TOLNA     522 non-null    int64 \n",
            " 18  VAS       522 non-null    int64 \n",
            " 19  VESZPREM  522 non-null    int64 \n",
            " 20  ZALA      522 non-null    int64 \n",
            "dtypes: int64(20), object(1)\n",
            "memory usage: 85.8+ KB\n"
          ]
        }
      ]
    },
    {
      "cell_type": "markdown",
      "source": [
        "Conclusão a partir das informações:\n",
        "1.   Não há dados faltosos\n",
        "2.   A maioria dos valores são números inteiros\n",
        "3.   Somente o atributo data é uma string."
      ],
      "metadata": {
        "id": "MbCvvG0xxCmN"
      }
    },
    {
      "cell_type": "markdown",
      "source": [
        "### Características Descritivas:"
      ],
      "metadata": {
        "id": "sbjG0h7anbHT"
      }
    },
    {
      "cell_type": "code",
      "metadata": {
        "colab": {
          "base_uri": "https://localhost:8080/",
          "height": 364
        },
        "id": "2YdJBLmGmUKb",
        "outputId": "7f2a434e-a96f-4fb9-89e2-ca3f863c1ae8"
      },
      "source": [
        "Diagnostico.describe()"
      ],
      "execution_count": 6,
      "outputs": [
        {
          "output_type": "execute_result",
          "data": {
            "text/plain": [
              "         BUDAPEST     BARANYA        BACS       BEKES      BORSOD    CSONGRAD  \\\n",
              "count  522.000000  522.000000  522.000000  522.000000  522.000000  522.000000   \n",
              "mean   101.245211   34.204981   37.166667   28.911877   57.082375   31.488506   \n",
              "std     76.354872   32.567222   36.843095   37.618092   50.725437   33.790208   \n",
              "min      0.000000    0.000000    0.000000    0.000000    0.000000    0.000000   \n",
              "25%     34.250000    8.000000    8.000000    4.000000   14.250000    6.000000   \n",
              "50%     93.000000   25.000000   29.500000   14.000000   46.500000   20.500000   \n",
              "75%    149.000000   51.000000   53.000000   38.750000   83.750000   47.000000   \n",
              "max    479.000000  194.000000  274.000000  271.000000  355.000000  199.000000   \n",
              "\n",
              "            FEJER        GYOR       HAJDU       HEVES        JASZ     KOMAROM  \\\n",
              "count  522.000000  522.000000  522.000000  522.000000  522.000000  522.000000   \n",
              "mean    33.272031   41.436782   47.097701   29.691571   40.869732   25.643678   \n",
              "std     31.397989   36.014297   44.610836   31.857750   37.283299   24.467995   \n",
              "min      0.000000    0.000000    0.000000    0.000000    0.000000    0.000000   \n",
              "25%      7.000000    9.000000   11.000000    6.250000   10.000000    6.000000   \n",
              "50%     24.000000   35.000000   37.000000   21.000000   31.000000   19.000000   \n",
              "75%     51.750000   63.000000   68.000000   41.000000   61.750000   39.000000   \n",
              "max    164.000000  181.000000  262.000000  210.000000  224.000000  160.000000   \n",
              "\n",
              "           NOGRAD        PEST      SOMOGY    SZABOLCS       TOLNA         VAS  \\\n",
              "count  522.000000  522.000000  522.000000  522.000000  522.000000  522.000000   \n",
              "mean    21.850575   86.101533   27.609195   29.854406   20.352490   22.467433   \n",
              "std     22.025999   66.773741   26.724236   31.814630   23.273025   25.006638   \n",
              "min      0.000000    0.000000    0.000000    0.000000    0.000000    0.000000   \n",
              "25%      4.000000   28.250000    6.000000    6.000000    4.000000    3.000000   \n",
              "50%     15.000000   81.000000   20.500000   18.500000   12.000000   13.000000   \n",
              "75%     32.750000  129.750000   41.000000   45.000000   29.000000   34.000000   \n",
              "max    112.000000  431.000000  155.000000  203.000000  131.000000  141.000000   \n",
              "\n",
              "         VESZPREM        ZALA  \n",
              "count  522.000000  522.000000  \n",
              "mean    40.636015   19.873563  \n",
              "std     40.699471   21.999636  \n",
              "min      0.000000    0.000000  \n",
              "25%      7.250000    4.000000  \n",
              "50%     32.000000   13.000000  \n",
              "75%     59.000000   31.000000  \n",
              "max    230.000000  216.000000  "
            ],
            "text/html": [
              "\n",
              "  <div id=\"df-45695682-992c-4307-a4f0-7c321c072a27\">\n",
              "    <div class=\"colab-df-container\">\n",
              "      <div>\n",
              "<style scoped>\n",
              "    .dataframe tbody tr th:only-of-type {\n",
              "        vertical-align: middle;\n",
              "    }\n",
              "\n",
              "    .dataframe tbody tr th {\n",
              "        vertical-align: top;\n",
              "    }\n",
              "\n",
              "    .dataframe thead th {\n",
              "        text-align: right;\n",
              "    }\n",
              "</style>\n",
              "<table border=\"1\" class=\"dataframe\">\n",
              "  <thead>\n",
              "    <tr style=\"text-align: right;\">\n",
              "      <th></th>\n",
              "      <th>BUDAPEST</th>\n",
              "      <th>BARANYA</th>\n",
              "      <th>BACS</th>\n",
              "      <th>BEKES</th>\n",
              "      <th>BORSOD</th>\n",
              "      <th>CSONGRAD</th>\n",
              "      <th>FEJER</th>\n",
              "      <th>GYOR</th>\n",
              "      <th>HAJDU</th>\n",
              "      <th>HEVES</th>\n",
              "      <th>JASZ</th>\n",
              "      <th>KOMAROM</th>\n",
              "      <th>NOGRAD</th>\n",
              "      <th>PEST</th>\n",
              "      <th>SOMOGY</th>\n",
              "      <th>SZABOLCS</th>\n",
              "      <th>TOLNA</th>\n",
              "      <th>VAS</th>\n",
              "      <th>VESZPREM</th>\n",
              "      <th>ZALA</th>\n",
              "    </tr>\n",
              "  </thead>\n",
              "  <tbody>\n",
              "    <tr>\n",
              "      <th>count</th>\n",
              "      <td>522.000000</td>\n",
              "      <td>522.000000</td>\n",
              "      <td>522.000000</td>\n",
              "      <td>522.000000</td>\n",
              "      <td>522.000000</td>\n",
              "      <td>522.000000</td>\n",
              "      <td>522.000000</td>\n",
              "      <td>522.000000</td>\n",
              "      <td>522.000000</td>\n",
              "      <td>522.000000</td>\n",
              "      <td>522.000000</td>\n",
              "      <td>522.000000</td>\n",
              "      <td>522.000000</td>\n",
              "      <td>522.000000</td>\n",
              "      <td>522.000000</td>\n",
              "      <td>522.000000</td>\n",
              "      <td>522.000000</td>\n",
              "      <td>522.000000</td>\n",
              "      <td>522.000000</td>\n",
              "      <td>522.000000</td>\n",
              "    </tr>\n",
              "    <tr>\n",
              "      <th>mean</th>\n",
              "      <td>101.245211</td>\n",
              "      <td>34.204981</td>\n",
              "      <td>37.166667</td>\n",
              "      <td>28.911877</td>\n",
              "      <td>57.082375</td>\n",
              "      <td>31.488506</td>\n",
              "      <td>33.272031</td>\n",
              "      <td>41.436782</td>\n",
              "      <td>47.097701</td>\n",
              "      <td>29.691571</td>\n",
              "      <td>40.869732</td>\n",
              "      <td>25.643678</td>\n",
              "      <td>21.850575</td>\n",
              "      <td>86.101533</td>\n",
              "      <td>27.609195</td>\n",
              "      <td>29.854406</td>\n",
              "      <td>20.352490</td>\n",
              "      <td>22.467433</td>\n",
              "      <td>40.636015</td>\n",
              "      <td>19.873563</td>\n",
              "    </tr>\n",
              "    <tr>\n",
              "      <th>std</th>\n",
              "      <td>76.354872</td>\n",
              "      <td>32.567222</td>\n",
              "      <td>36.843095</td>\n",
              "      <td>37.618092</td>\n",
              "      <td>50.725437</td>\n",
              "      <td>33.790208</td>\n",
              "      <td>31.397989</td>\n",
              "      <td>36.014297</td>\n",
              "      <td>44.610836</td>\n",
              "      <td>31.857750</td>\n",
              "      <td>37.283299</td>\n",
              "      <td>24.467995</td>\n",
              "      <td>22.025999</td>\n",
              "      <td>66.773741</td>\n",
              "      <td>26.724236</td>\n",
              "      <td>31.814630</td>\n",
              "      <td>23.273025</td>\n",
              "      <td>25.006638</td>\n",
              "      <td>40.699471</td>\n",
              "      <td>21.999636</td>\n",
              "    </tr>\n",
              "    <tr>\n",
              "      <th>min</th>\n",
              "      <td>0.000000</td>\n",
              "      <td>0.000000</td>\n",
              "      <td>0.000000</td>\n",
              "      <td>0.000000</td>\n",
              "      <td>0.000000</td>\n",
              "      <td>0.000000</td>\n",
              "      <td>0.000000</td>\n",
              "      <td>0.000000</td>\n",
              "      <td>0.000000</td>\n",
              "      <td>0.000000</td>\n",
              "      <td>0.000000</td>\n",
              "      <td>0.000000</td>\n",
              "      <td>0.000000</td>\n",
              "      <td>0.000000</td>\n",
              "      <td>0.000000</td>\n",
              "      <td>0.000000</td>\n",
              "      <td>0.000000</td>\n",
              "      <td>0.000000</td>\n",
              "      <td>0.000000</td>\n",
              "      <td>0.000000</td>\n",
              "    </tr>\n",
              "    <tr>\n",
              "      <th>25%</th>\n",
              "      <td>34.250000</td>\n",
              "      <td>8.000000</td>\n",
              "      <td>8.000000</td>\n",
              "      <td>4.000000</td>\n",
              "      <td>14.250000</td>\n",
              "      <td>6.000000</td>\n",
              "      <td>7.000000</td>\n",
              "      <td>9.000000</td>\n",
              "      <td>11.000000</td>\n",
              "      <td>6.250000</td>\n",
              "      <td>10.000000</td>\n",
              "      <td>6.000000</td>\n",
              "      <td>4.000000</td>\n",
              "      <td>28.250000</td>\n",
              "      <td>6.000000</td>\n",
              "      <td>6.000000</td>\n",
              "      <td>4.000000</td>\n",
              "      <td>3.000000</td>\n",
              "      <td>7.250000</td>\n",
              "      <td>4.000000</td>\n",
              "    </tr>\n",
              "    <tr>\n",
              "      <th>50%</th>\n",
              "      <td>93.000000</td>\n",
              "      <td>25.000000</td>\n",
              "      <td>29.500000</td>\n",
              "      <td>14.000000</td>\n",
              "      <td>46.500000</td>\n",
              "      <td>20.500000</td>\n",
              "      <td>24.000000</td>\n",
              "      <td>35.000000</td>\n",
              "      <td>37.000000</td>\n",
              "      <td>21.000000</td>\n",
              "      <td>31.000000</td>\n",
              "      <td>19.000000</td>\n",
              "      <td>15.000000</td>\n",
              "      <td>81.000000</td>\n",
              "      <td>20.500000</td>\n",
              "      <td>18.500000</td>\n",
              "      <td>12.000000</td>\n",
              "      <td>13.000000</td>\n",
              "      <td>32.000000</td>\n",
              "      <td>13.000000</td>\n",
              "    </tr>\n",
              "    <tr>\n",
              "      <th>75%</th>\n",
              "      <td>149.000000</td>\n",
              "      <td>51.000000</td>\n",
              "      <td>53.000000</td>\n",
              "      <td>38.750000</td>\n",
              "      <td>83.750000</td>\n",
              "      <td>47.000000</td>\n",
              "      <td>51.750000</td>\n",
              "      <td>63.000000</td>\n",
              "      <td>68.000000</td>\n",
              "      <td>41.000000</td>\n",
              "      <td>61.750000</td>\n",
              "      <td>39.000000</td>\n",
              "      <td>32.750000</td>\n",
              "      <td>129.750000</td>\n",
              "      <td>41.000000</td>\n",
              "      <td>45.000000</td>\n",
              "      <td>29.000000</td>\n",
              "      <td>34.000000</td>\n",
              "      <td>59.000000</td>\n",
              "      <td>31.000000</td>\n",
              "    </tr>\n",
              "    <tr>\n",
              "      <th>max</th>\n",
              "      <td>479.000000</td>\n",
              "      <td>194.000000</td>\n",
              "      <td>274.000000</td>\n",
              "      <td>271.000000</td>\n",
              "      <td>355.000000</td>\n",
              "      <td>199.000000</td>\n",
              "      <td>164.000000</td>\n",
              "      <td>181.000000</td>\n",
              "      <td>262.000000</td>\n",
              "      <td>210.000000</td>\n",
              "      <td>224.000000</td>\n",
              "      <td>160.000000</td>\n",
              "      <td>112.000000</td>\n",
              "      <td>431.000000</td>\n",
              "      <td>155.000000</td>\n",
              "      <td>203.000000</td>\n",
              "      <td>131.000000</td>\n",
              "      <td>141.000000</td>\n",
              "      <td>230.000000</td>\n",
              "      <td>216.000000</td>\n",
              "    </tr>\n",
              "  </tbody>\n",
              "</table>\n",
              "</div>\n",
              "      <button class=\"colab-df-convert\" onclick=\"convertToInteractive('df-45695682-992c-4307-a4f0-7c321c072a27')\"\n",
              "              title=\"Convert this dataframe to an interactive table.\"\n",
              "              style=\"display:none;\">\n",
              "        \n",
              "  <svg xmlns=\"http://www.w3.org/2000/svg\" height=\"24px\"viewBox=\"0 0 24 24\"\n",
              "       width=\"24px\">\n",
              "    <path d=\"M0 0h24v24H0V0z\" fill=\"none\"/>\n",
              "    <path d=\"M18.56 5.44l.94 2.06.94-2.06 2.06-.94-2.06-.94-.94-2.06-.94 2.06-2.06.94zm-11 1L8.5 8.5l.94-2.06 2.06-.94-2.06-.94L8.5 2.5l-.94 2.06-2.06.94zm10 10l.94 2.06.94-2.06 2.06-.94-2.06-.94-.94-2.06-.94 2.06-2.06.94z\"/><path d=\"M17.41 7.96l-1.37-1.37c-.4-.4-.92-.59-1.43-.59-.52 0-1.04.2-1.43.59L10.3 9.45l-7.72 7.72c-.78.78-.78 2.05 0 2.83L4 21.41c.39.39.9.59 1.41.59.51 0 1.02-.2 1.41-.59l7.78-7.78 2.81-2.81c.8-.78.8-2.07 0-2.86zM5.41 20L4 18.59l7.72-7.72 1.47 1.35L5.41 20z\"/>\n",
              "  </svg>\n",
              "      </button>\n",
              "      \n",
              "  <style>\n",
              "    .colab-df-container {\n",
              "      display:flex;\n",
              "      flex-wrap:wrap;\n",
              "      gap: 12px;\n",
              "    }\n",
              "\n",
              "    .colab-df-convert {\n",
              "      background-color: #E8F0FE;\n",
              "      border: none;\n",
              "      border-radius: 50%;\n",
              "      cursor: pointer;\n",
              "      display: none;\n",
              "      fill: #1967D2;\n",
              "      height: 32px;\n",
              "      padding: 0 0 0 0;\n",
              "      width: 32px;\n",
              "    }\n",
              "\n",
              "    .colab-df-convert:hover {\n",
              "      background-color: #E2EBFA;\n",
              "      box-shadow: 0px 1px 2px rgba(60, 64, 67, 0.3), 0px 1px 3px 1px rgba(60, 64, 67, 0.15);\n",
              "      fill: #174EA6;\n",
              "    }\n",
              "\n",
              "    [theme=dark] .colab-df-convert {\n",
              "      background-color: #3B4455;\n",
              "      fill: #D2E3FC;\n",
              "    }\n",
              "\n",
              "    [theme=dark] .colab-df-convert:hover {\n",
              "      background-color: #434B5C;\n",
              "      box-shadow: 0px 1px 3px 1px rgba(0, 0, 0, 0.15);\n",
              "      filter: drop-shadow(0px 1px 2px rgba(0, 0, 0, 0.3));\n",
              "      fill: #FFFFFF;\n",
              "    }\n",
              "  </style>\n",
              "\n",
              "      <script>\n",
              "        const buttonEl =\n",
              "          document.querySelector('#df-45695682-992c-4307-a4f0-7c321c072a27 button.colab-df-convert');\n",
              "        buttonEl.style.display =\n",
              "          google.colab.kernel.accessAllowed ? 'block' : 'none';\n",
              "\n",
              "        async function convertToInteractive(key) {\n",
              "          const element = document.querySelector('#df-45695682-992c-4307-a4f0-7c321c072a27');\n",
              "          const dataTable =\n",
              "            await google.colab.kernel.invokeFunction('convertToInteractive',\n",
              "                                                     [key], {});\n",
              "          if (!dataTable) return;\n",
              "\n",
              "          const docLinkHtml = 'Like what you see? Visit the ' +\n",
              "            '<a target=\"_blank\" href=https://colab.research.google.com/notebooks/data_table.ipynb>data table notebook</a>'\n",
              "            + ' to learn more about interactive tables.';\n",
              "          element.innerHTML = '';\n",
              "          dataTable['output_type'] = 'display_data';\n",
              "          await google.colab.output.renderOutput(dataTable, element);\n",
              "          const docLink = document.createElement('div');\n",
              "          docLink.innerHTML = docLinkHtml;\n",
              "          element.appendChild(docLink);\n",
              "        }\n",
              "      </script>\n",
              "    </div>\n",
              "  </div>\n",
              "  "
            ]
          },
          "metadata": {},
          "execution_count": 6
        }
      ]
    },
    {
      "cell_type": "markdown",
      "source": [
        "A maior média obtida foi o no município Budapest e o menor, no Zala. Podemos concluir ainda que, o mínimo de casos é =0 e os valores no máximo, passam de 100."
      ],
      "metadata": {
        "id": "66_11HdhQlqv"
      }
    },
    {
      "cell_type": "code",
      "source": [
        "Diagnostico.describe(include='object')"
      ],
      "metadata": {
        "id": "ba46NdNrB7-Z",
        "outputId": "b0c9b80f-5f97-49fb-8ee8-9f2f3d74a409",
        "colab": {
          "base_uri": "https://localhost:8080/",
          "height": 175
        }
      },
      "execution_count": 7,
      "outputs": [
        {
          "output_type": "execute_result",
          "data": {
            "text/plain": [
              "             Date\n",
              "count         522\n",
              "unique        522\n",
              "top     3/01/2005\n",
              "freq            1"
            ],
            "text/html": [
              "\n",
              "  <div id=\"df-6bf28c10-85e3-4abb-bde4-10bd154c4e74\">\n",
              "    <div class=\"colab-df-container\">\n",
              "      <div>\n",
              "<style scoped>\n",
              "    .dataframe tbody tr th:only-of-type {\n",
              "        vertical-align: middle;\n",
              "    }\n",
              "\n",
              "    .dataframe tbody tr th {\n",
              "        vertical-align: top;\n",
              "    }\n",
              "\n",
              "    .dataframe thead th {\n",
              "        text-align: right;\n",
              "    }\n",
              "</style>\n",
              "<table border=\"1\" class=\"dataframe\">\n",
              "  <thead>\n",
              "    <tr style=\"text-align: right;\">\n",
              "      <th></th>\n",
              "      <th>Date</th>\n",
              "    </tr>\n",
              "  </thead>\n",
              "  <tbody>\n",
              "    <tr>\n",
              "      <th>count</th>\n",
              "      <td>522</td>\n",
              "    </tr>\n",
              "    <tr>\n",
              "      <th>unique</th>\n",
              "      <td>522</td>\n",
              "    </tr>\n",
              "    <tr>\n",
              "      <th>top</th>\n",
              "      <td>3/01/2005</td>\n",
              "    </tr>\n",
              "    <tr>\n",
              "      <th>freq</th>\n",
              "      <td>1</td>\n",
              "    </tr>\n",
              "  </tbody>\n",
              "</table>\n",
              "</div>\n",
              "      <button class=\"colab-df-convert\" onclick=\"convertToInteractive('df-6bf28c10-85e3-4abb-bde4-10bd154c4e74')\"\n",
              "              title=\"Convert this dataframe to an interactive table.\"\n",
              "              style=\"display:none;\">\n",
              "        \n",
              "  <svg xmlns=\"http://www.w3.org/2000/svg\" height=\"24px\"viewBox=\"0 0 24 24\"\n",
              "       width=\"24px\">\n",
              "    <path d=\"M0 0h24v24H0V0z\" fill=\"none\"/>\n",
              "    <path d=\"M18.56 5.44l.94 2.06.94-2.06 2.06-.94-2.06-.94-.94-2.06-.94 2.06-2.06.94zm-11 1L8.5 8.5l.94-2.06 2.06-.94-2.06-.94L8.5 2.5l-.94 2.06-2.06.94zm10 10l.94 2.06.94-2.06 2.06-.94-2.06-.94-.94-2.06-.94 2.06-2.06.94z\"/><path d=\"M17.41 7.96l-1.37-1.37c-.4-.4-.92-.59-1.43-.59-.52 0-1.04.2-1.43.59L10.3 9.45l-7.72 7.72c-.78.78-.78 2.05 0 2.83L4 21.41c.39.39.9.59 1.41.59.51 0 1.02-.2 1.41-.59l7.78-7.78 2.81-2.81c.8-.78.8-2.07 0-2.86zM5.41 20L4 18.59l7.72-7.72 1.47 1.35L5.41 20z\"/>\n",
              "  </svg>\n",
              "      </button>\n",
              "      \n",
              "  <style>\n",
              "    .colab-df-container {\n",
              "      display:flex;\n",
              "      flex-wrap:wrap;\n",
              "      gap: 12px;\n",
              "    }\n",
              "\n",
              "    .colab-df-convert {\n",
              "      background-color: #E8F0FE;\n",
              "      border: none;\n",
              "      border-radius: 50%;\n",
              "      cursor: pointer;\n",
              "      display: none;\n",
              "      fill: #1967D2;\n",
              "      height: 32px;\n",
              "      padding: 0 0 0 0;\n",
              "      width: 32px;\n",
              "    }\n",
              "\n",
              "    .colab-df-convert:hover {\n",
              "      background-color: #E2EBFA;\n",
              "      box-shadow: 0px 1px 2px rgba(60, 64, 67, 0.3), 0px 1px 3px 1px rgba(60, 64, 67, 0.15);\n",
              "      fill: #174EA6;\n",
              "    }\n",
              "\n",
              "    [theme=dark] .colab-df-convert {\n",
              "      background-color: #3B4455;\n",
              "      fill: #D2E3FC;\n",
              "    }\n",
              "\n",
              "    [theme=dark] .colab-df-convert:hover {\n",
              "      background-color: #434B5C;\n",
              "      box-shadow: 0px 1px 3px 1px rgba(0, 0, 0, 0.15);\n",
              "      filter: drop-shadow(0px 1px 2px rgba(0, 0, 0, 0.3));\n",
              "      fill: #FFFFFF;\n",
              "    }\n",
              "  </style>\n",
              "\n",
              "      <script>\n",
              "        const buttonEl =\n",
              "          document.querySelector('#df-6bf28c10-85e3-4abb-bde4-10bd154c4e74 button.colab-df-convert');\n",
              "        buttonEl.style.display =\n",
              "          google.colab.kernel.accessAllowed ? 'block' : 'none';\n",
              "\n",
              "        async function convertToInteractive(key) {\n",
              "          const element = document.querySelector('#df-6bf28c10-85e3-4abb-bde4-10bd154c4e74');\n",
              "          const dataTable =\n",
              "            await google.colab.kernel.invokeFunction('convertToInteractive',\n",
              "                                                     [key], {});\n",
              "          if (!dataTable) return;\n",
              "\n",
              "          const docLinkHtml = 'Like what you see? Visit the ' +\n",
              "            '<a target=\"_blank\" href=https://colab.research.google.com/notebooks/data_table.ipynb>data table notebook</a>'\n",
              "            + ' to learn more about interactive tables.';\n",
              "          element.innerHTML = '';\n",
              "          dataTable['output_type'] = 'display_data';\n",
              "          await google.colab.output.renderOutput(dataTable, element);\n",
              "          const docLink = document.createElement('div');\n",
              "          docLink.innerHTML = docLinkHtml;\n",
              "          element.appendChild(docLink);\n",
              "        }\n",
              "      </script>\n",
              "    </div>\n",
              "  </div>\n",
              "  "
            ]
          },
          "metadata": {},
          "execution_count": 7
        }
      ]
    },
    {
      "cell_type": "code",
      "source": [
        "plt.bar(Diagnostico.BARANYA.value_counts().index, Diagnostico.BARANYA.value_counts().values);"
      ],
      "metadata": {
        "id": "LV41GoYoBMhJ",
        "outputId": "b2ffa396-6ea8-46d8-d4fe-ef7048b569b7",
        "colab": {
          "base_uri": "https://localhost:8080/",
          "height": 265
        }
      },
      "execution_count": 10,
      "outputs": [
        {
          "output_type": "display_data",
          "data": {
            "text/plain": [
              "<Figure size 432x288 with 1 Axes>"
            ],
            "image/png": "[encoded data removed]"
          },
          "metadata": {
            "needs_background": "light"
          }
        }
      ]
    },
    {
      "cell_type": "markdown",
      "source": [
        "A partir do gráfico acima, nota-se que, no município de Baranya, não houve mais de 25 repetições do mesmo diagnóstico por semana. E, ainda, o padrão de casos semanais era entre 0 e 100. Onde passar de 100 eram semanas de alto contágio."
      ],
      "metadata": {
        "id": "Eq74_lhrSGiU"
      }
    },
    {
      "cell_type": "code",
      "source": [
        "# Fazendo referencia a algumas colunas\n",
        "# Dois colchetes nesse caso\n",
        "associacao1 = Diagnostico[['BARANYA', 'BACS']] \n",
        "print(associacao1)"
      ],
      "metadata": {
        "colab": {
          "base_uri": "https://localhost:8080/"
        },
        "id": "qIiW815d5A9p",
        "outputId": "a174c40d-2778-4184-b897-e80ae25c78dd"
      },
      "execution_count": 12,
      "outputs": [
        {
          "output_type": "stream",
          "name": "stdout",
          "text": [
            "     BARANYA  BACS\n",
            "0         79    30\n",
            "1         60    30\n",
            "2         44    31\n",
            "3         49    43\n",
            "4         78    53\n",
            "..       ...   ...\n",
            "517       12    41\n",
            "518       39    31\n",
            "519        7    15\n",
            "520       23     8\n",
            "521       42    49\n",
            "\n",
            "[522 rows x 2 columns]\n"
          ]
        }
      ]
    },
    {
      "cell_type": "markdown",
      "source": [
        ""
      ],
      "metadata": {
        "id": "T8clRPlKTxI6"
      }
    },
    {
      "cell_type": "code",
      "source": [
        "sb.boxplot(data=Diagnostico, x='BACS', color=\"green\")"
      ],
      "metadata": {
        "id": "yOFV_ZPUCXtf",
        "outputId": "069337cd-ea0e-494c-efc9-4543ea98462e",
        "colab": {
          "base_uri": "https://localhost:8080/",
          "height": 296
        }
      },
      "execution_count": 13,
      "outputs": [
        {
          "output_type": "execute_result",
          "data": {
            "text/plain": [
              "<matplotlib.axes._subplots.AxesSubplot at 0x7f9418cce910>"
            ]
          },
          "metadata": {},
          "execution_count": 13
        },
        {
          "output_type": "display_data",
          "data": {
            "text/plain": [
              "<Figure size 432x288 with 1 Axes>"
            ],
            "image/png": "[encoded data removed]"
          },
          "metadata": {
            "needs_background": "light"
          }
        }
      ]
    },
    {
      "cell_type": "code",
      "source": [
        "sb.histplot(data=Diagnostico, x='BACS', kde=True, color=\"red\")"
      ],
      "metadata": {
        "id": "p0UTEMI6CvZP",
        "outputId": "b5be54e6-646c-4b58-b8a3-2bbf4e5254e5",
        "colab": {
          "base_uri": "https://localhost:8080/",
          "height": 296
        }
      },
      "execution_count": 14,
      "outputs": [
        {
          "output_type": "execute_result",
          "data": {
            "text/plain": [
              "<matplotlib.axes._subplots.AxesSubplot at 0x7f9418d04950>"
            ]
          },
          "metadata": {},
          "execution_count": 14
        },
        {
          "output_type": "display_data",
          "data": {
            "text/plain": [
              "<Figure size 432x288 with 1 Axes>"
            ],
            "image/png": "[encoded data removed]"
          },
          "metadata": {
            "needs_background": "light"
          }
        }
      ]
    },
    {
      "cell_type": "markdown",
      "source": [
        "Nova seção"
      ],
      "metadata": {
        "id": "yLpKQ8eLOVwa"
      }
    }
  ]
}